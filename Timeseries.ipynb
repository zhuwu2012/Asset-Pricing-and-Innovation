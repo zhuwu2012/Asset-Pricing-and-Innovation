{
 "cells": [
  {
   "cell_type": "markdown",
   "metadata": {},
   "source": [
    "# Asset Pricing"
   ]
  },
  {
   "cell_type": "code",
   "execution_count": 426,
   "metadata": {
    "collapsed": true
   },
   "outputs": [],
   "source": [
    "import os\n",
    "import pandas as pd \n",
    "import numpy as np\n",
    "import matplotlib.pyplot as plt\n",
    "\n",
    "from matplotlib.pylab import rcParams\n",
    "rcParams['figure.figsize'] = 15, 6"
   ]
  },
  {
   "cell_type": "code",
   "execution_count": 87,
   "metadata": {},
   "outputs": [],
   "source": [
    "df = pd.read_csv('/Users/zhuwu/Desktop/Courses and Materials/FNCE/CRSP /vwret.csv')"
   ]
  },
  {
   "cell_type": "code",
   "execution_count": null,
   "metadata": {
    "collapsed": true
   },
   "outputs": [],
   "source": []
  },
  {
   "cell_type": "code",
   "execution_count": 94,
   "metadata": {},
   "outputs": [
    {
     "name": "stdout",
     "output_type": "stream",
     "text": [
      "(368, 5)\n",
      "<class 'pandas.core.frame.DataFrame'>\n",
      "RangeIndex: 368 entries, 0 to 367\n",
      "Data columns (total 5 columns):\n",
      "caldt     368 non-null int64\n",
      "vwretd    368 non-null float64\n",
      "vwretx    368 non-null float64\n",
      "sprtrn    368 non-null float64\n",
      "spindx    368 non-null float64\n",
      "dtypes: float64(4), int64(1)\n",
      "memory usage: 14.5 KB\n"
     ]
    },
    {
     "data": {
      "text/plain": [
       "pandas.core.series.Series"
      ]
     },
     "execution_count": 94,
     "metadata": {},
     "output_type": "execute_result"
    }
   ],
   "source": [
    "print(df.shape) #describe the dimensionality\n",
    "df.info()\n",
    "list(df)\n",
    "type(df['caldt'])"
   ]
  },
  {
   "cell_type": "code",
   "execution_count": 103,
   "metadata": {},
   "outputs": [
    {
     "name": "stdout",
     "output_type": "stream",
     "text": [
      "int64\n",
      "float64\n",
      "float64\n",
      "float64\n",
      "float64\n"
     ]
    },
    {
     "data": {
      "text/plain": [
       "19260630"
      ]
     },
     "execution_count": 103,
     "metadata": {},
     "output_type": "execute_result"
    }
   ],
   "source": [
    "df.dtypes #data types of each column \n",
    "for col in df:\n",
    "    print(df[col].dtypes)\n",
    "df['caldt'][1]"
   ]
  },
  {
   "cell_type": "code",
   "execution_count": 122,
   "metadata": {},
   "outputs": [
    {
     "data": {
      "text/plain": [
       "\"\\nprint(np.mean(df['vwretd']))\\nprint(np.mean(df['vwretx']))\\nprint(np.mean(df['sprtrn']))\\nprint(np.std(df['vwretd']))\\nprint(np.std(df['vwretx']))\\n\""
      ]
     },
     "execution_count": 122,
     "metadata": {},
     "output_type": "execute_result"
    }
   ],
   "source": [
    "df['caldt'][0:1]  ##check more detailed information for each column \n",
    "type(df['caldt'])\n",
    "type(df['vwretd'])\n",
    "'''\n",
    "print(np.mean(df['vwretd']))\n",
    "print(np.mean(df['vwretx']))\n",
    "print(np.mean(df['sprtrn']))\n",
    "print(np.std(df['vwretd']))\n",
    "print(np.std(df['vwretx']))\n",
    "'''"
   ]
  },
  {
   "cell_type": "code",
   "execution_count": 138,
   "metadata": {},
   "outputs": [
    {
     "name": "stdout",
     "output_type": "stream",
     "text": [
      "caldt\n",
      "vwretd\n",
      "vwretx\n",
      "sprtrn\n",
      "spindx\n"
     ]
    }
   ],
   "source": [
    "df.isnull() #check if there is any null\n",
    "type(df.isnull())\n",
    "\n",
    "df['vwretd'].unique() #check the unique value for the vwretd column\n",
    "df.loc[1].unique()\n",
    "set(df.loc[1])\n",
    "\n",
    "df.values\n",
    "df.columns #check the column names\n",
    "\n",
    "for col in df.columns:\n",
    "    print(col)\n"
   ]
  },
  {
   "cell_type": "code",
   "execution_count": 144,
   "metadata": {},
   "outputs": [
    {
     "data": {
      "text/plain": [
       "pandas.core.series.Series"
      ]
     },
     "execution_count": 144,
     "metadata": {},
     "output_type": "execute_result"
    }
   ],
   "source": [
    "df.tail()\n",
    "\n",
    "df.fillna(value = 0)  #fill the nan using 0\n",
    "\n",
    "df['vwretd'].fillna(df['vwretd'].mean())\n",
    "\n",
    "df['vwretd'].mean()\n",
    "type(df['vwretd'])"
   ]
  },
  {
   "cell_type": "code",
   "execution_count": 156,
   "metadata": {},
   "outputs": [
    {
     "data": {
      "text/plain": [
       "0.10588599999999999"
      ]
     },
     "execution_count": 156,
     "metadata": {},
     "output_type": "execute_result"
    }
   ],
   "source": [
    "type(df)\n",
    "type(df['vwretd'])\n",
    "df['vwretd'][1]\n",
    "\n"
   ]
  },
  {
   "cell_type": "code",
   "execution_count": 167,
   "metadata": {},
   "outputs": [],
   "source": [
    "df.head()\n",
    "df['spindx'].astype('int')\n",
    "df.head()\n",
    "df['spindx_int'] = df['spindx'].astype('int')\n",
    "df['name'] = 'Zhu Wu'\n"
   ]
  },
  {
   "cell_type": "code",
   "execution_count": 180,
   "metadata": {},
   "outputs": [
    {
     "data": {
      "text/html": [
       "<div>\n",
       "<style>\n",
       "    .dataframe thead tr:only-child th {\n",
       "        text-align: right;\n",
       "    }\n",
       "\n",
       "    .dataframe thead th {\n",
       "        text-align: left;\n",
       "    }\n",
       "\n",
       "    .dataframe tbody tr th {\n",
       "        vertical-align: top;\n",
       "    }\n",
       "</style>\n",
       "<table border=\"1\" class=\"dataframe\">\n",
       "  <thead>\n",
       "    <tr style=\"text-align: right;\">\n",
       "      <th></th>\n",
       "      <th>caldt</th>\n",
       "      <th>vwretd</th>\n",
       "      <th>vwretx</th>\n",
       "      <th>sprtrn</th>\n",
       "      <th>spindx</th>\n",
       "      <th>spindx_int</th>\n",
       "      <th>name</th>\n",
       "    </tr>\n",
       "  </thead>\n",
       "  <tbody>\n",
       "    <tr>\n",
       "      <th>0</th>\n",
       "      <td>19260331</td>\n",
       "      <td>-0.094425</td>\n",
       "      <td>-0.105297</td>\n",
       "      <td>-0.080257</td>\n",
       "      <td>11.46</td>\n",
       "      <td>11</td>\n",
       "      <td>ZHU WU</td>\n",
       "    </tr>\n",
       "    <tr>\n",
       "      <th>1</th>\n",
       "      <td>19260630</td>\n",
       "      <td>0.105886</td>\n",
       "      <td>0.091079</td>\n",
       "      <td>0.075044</td>\n",
       "      <td>12.32</td>\n",
       "      <td>12</td>\n",
       "      <td>ZHU WU</td>\n",
       "    </tr>\n",
       "    <tr>\n",
       "      <th>2</th>\n",
       "      <td>19260930</td>\n",
       "      <td>0.067099</td>\n",
       "      <td>0.055355</td>\n",
       "      <td>0.087662</td>\n",
       "      <td>13.40</td>\n",
       "      <td>13</td>\n",
       "      <td>ZHU WU</td>\n",
       "    </tr>\n",
       "    <tr>\n",
       "      <th>3</th>\n",
       "      <td>19261231</td>\n",
       "      <td>0.027904</td>\n",
       "      <td>0.012429</td>\n",
       "      <td>0.006716</td>\n",
       "      <td>13.49</td>\n",
       "      <td>13</td>\n",
       "      <td>ZHU WU</td>\n",
       "    </tr>\n",
       "    <tr>\n",
       "      <th>4</th>\n",
       "      <td>19270331</td>\n",
       "      <td>0.051829</td>\n",
       "      <td>0.038891</td>\n",
       "      <td>0.032617</td>\n",
       "      <td>13.93</td>\n",
       "      <td>13</td>\n",
       "      <td>ZHU WU</td>\n",
       "    </tr>\n",
       "  </tbody>\n",
       "</table>\n",
       "</div>"
      ],
      "text/plain": [
       "      caldt    vwretd    vwretx    sprtrn  spindx  spindx_int    name\n",
       "0  19260331 -0.094425 -0.105297 -0.080257   11.46          11  ZHU WU\n",
       "1  19260630  0.105886  0.091079  0.075044   12.32          12  ZHU WU\n",
       "2  19260930  0.067099  0.055355  0.087662   13.40          13  ZHU WU\n",
       "3  19261231  0.027904  0.012429  0.006716   13.49          13  ZHU WU\n",
       "4  19270331  0.051829  0.038891  0.032617   13.93          13  ZHU WU"
      ]
     },
     "execution_count": 180,
     "metadata": {},
     "output_type": "execute_result"
    }
   ],
   "source": [
    "df.head()\n",
    "df['name'] = df['name'].str.lower() #lower case the string in series name\n",
    "df['name'] = df['name'].str.upper()\n",
    "\n",
    "df['name'] = df['name'].str.strip()\n",
    "df.head()"
   ]
  },
  {
   "cell_type": "code",
   "execution_count": 187,
   "metadata": {},
   "outputs": [
    {
     "name": "stdout",
     "output_type": "stream",
     "text": [
      "<class 'pandas.core.frame.DataFrame'>\n",
      "RangeIndex: 368 entries, 0 to 367\n",
      "Data columns (total 7 columns):\n",
      "date          368 non-null int64\n",
      "vwretd        368 non-null float64\n",
      "vwretx        368 non-null float64\n",
      "sprtrn        368 non-null float64\n",
      "spindx        368 non-null float64\n",
      "spindx_int    368 non-null int64\n",
      "name          368 non-null object\n",
      "dtypes: float64(4), int64(2), object(1)\n",
      "memory usage: 20.2+ KB\n"
     ]
    }
   ],
   "source": [
    "#rename the column name \n",
    "df.rename(columns = {'caldt':'date'},inplace = True) #change the column name from caldt to date\n",
    "df.info()"
   ]
  },
  {
   "cell_type": "code",
   "execution_count": 199,
   "metadata": {},
   "outputs": [
    {
     "name": "stdout",
     "output_type": "stream",
     "text": [
      "<class 'pandas.core.frame.DataFrame'>\n",
      "Int64Index: 368 entries, 0 to 367\n",
      "Data columns (total 7 columns):\n",
      "date          368 non-null int64\n",
      "vwretd        368 non-null float64\n",
      "vwretx        368 non-null float64\n",
      "sprtrn        368 non-null float64\n",
      "spindx        368 non-null float64\n",
      "spindx_int    368 non-null int64\n",
      "name          368 non-null object\n",
      "dtypes: float64(4), int64(2), object(1)\n",
      "memory usage: 23.0+ KB\n"
     ]
    },
    {
     "data": {
      "text/html": [
       "<div>\n",
       "<style>\n",
       "    .dataframe thead tr:only-child th {\n",
       "        text-align: right;\n",
       "    }\n",
       "\n",
       "    .dataframe thead th {\n",
       "        text-align: left;\n",
       "    }\n",
       "\n",
       "    .dataframe tbody tr th {\n",
       "        vertical-align: top;\n",
       "    }\n",
       "</style>\n",
       "<table border=\"1\" class=\"dataframe\">\n",
       "  <thead>\n",
       "    <tr style=\"text-align: right;\">\n",
       "      <th></th>\n",
       "      <th>date</th>\n",
       "      <th>vwretd</th>\n",
       "      <th>vwretx</th>\n",
       "      <th>sprtrn</th>\n",
       "      <th>spindx</th>\n",
       "      <th>spindx_int</th>\n",
       "      <th>name</th>\n",
       "    </tr>\n",
       "  </thead>\n",
       "  <tbody>\n",
       "    <tr>\n",
       "      <th>0</th>\n",
       "      <td>19260331</td>\n",
       "      <td>-0.094425</td>\n",
       "      <td>-0.105297</td>\n",
       "      <td>-0.080257</td>\n",
       "      <td>11.46</td>\n",
       "      <td>11</td>\n",
       "      <td>ZHU WU</td>\n",
       "    </tr>\n",
       "    <tr>\n",
       "      <th>1</th>\n",
       "      <td>19260630</td>\n",
       "      <td>0.105886</td>\n",
       "      <td>0.091079</td>\n",
       "      <td>0.075044</td>\n",
       "      <td>12.32</td>\n",
       "      <td>12</td>\n",
       "      <td>ZHU WU</td>\n",
       "    </tr>\n",
       "    <tr>\n",
       "      <th>2</th>\n",
       "      <td>19260930</td>\n",
       "      <td>0.067099</td>\n",
       "      <td>0.055355</td>\n",
       "      <td>0.087662</td>\n",
       "      <td>13.40</td>\n",
       "      <td>13</td>\n",
       "      <td>ZHU WU</td>\n",
       "    </tr>\n",
       "    <tr>\n",
       "      <th>3</th>\n",
       "      <td>19261231</td>\n",
       "      <td>0.027904</td>\n",
       "      <td>0.012429</td>\n",
       "      <td>0.006716</td>\n",
       "      <td>13.49</td>\n",
       "      <td>13</td>\n",
       "      <td>ZHU WU</td>\n",
       "    </tr>\n",
       "    <tr>\n",
       "      <th>4</th>\n",
       "      <td>19270331</td>\n",
       "      <td>0.051829</td>\n",
       "      <td>0.038891</td>\n",
       "      <td>0.032617</td>\n",
       "      <td>13.93</td>\n",
       "      <td>13</td>\n",
       "      <td>ZHU WU</td>\n",
       "    </tr>\n",
       "  </tbody>\n",
       "</table>\n",
       "</div>"
      ],
      "text/plain": [
       "       date    vwretd    vwretx    sprtrn  spindx  spindx_int    name\n",
       "0  19260331 -0.094425 -0.105297 -0.080257   11.46          11  ZHU WU\n",
       "1  19260630  0.105886  0.091079  0.075044   12.32          12  ZHU WU\n",
       "2  19260930  0.067099  0.055355  0.087662   13.40          13  ZHU WU\n",
       "3  19261231  0.027904  0.012429  0.006716   13.49          13  ZHU WU\n",
       "4  19270331  0.051829  0.038891  0.032617   13.93          13  ZHU WU"
      ]
     },
     "execution_count": 199,
     "metadata": {},
     "output_type": "execute_result"
    }
   ],
   "source": [
    "#drop the duplicates\n",
    "df.drop_duplicates(subset = ['date'],keep = 'last',inplace = True) \n",
    "df.info()\n",
    "df.head()"
   ]
  },
  {
   "cell_type": "code",
   "execution_count": 206,
   "metadata": {},
   "outputs": [
    {
     "name": "stdout",
     "output_type": "stream",
     "text": [
      "<class 'pandas.core.frame.DataFrame'>\n",
      "Int64Index: 368 entries, 0 to 367\n",
      "Data columns (total 7 columns):\n",
      "date          368 non-null int64\n",
      "vwretd        368 non-null float64\n",
      "vwretx        368 non-null float64\n",
      "sprtrn        368 non-null float64\n",
      "spindx        368 non-null float64\n",
      "spindx_int    368 non-null int64\n",
      "name          368 non-null object\n",
      "dtypes: float64(4), int64(2), object(1)\n",
      "memory usage: 23.0+ KB\n"
     ]
    },
    {
     "data": {
      "text/html": [
       "<div>\n",
       "<style>\n",
       "    .dataframe thead tr:only-child th {\n",
       "        text-align: right;\n",
       "    }\n",
       "\n",
       "    .dataframe thead th {\n",
       "        text-align: left;\n",
       "    }\n",
       "\n",
       "    .dataframe tbody tr th {\n",
       "        vertical-align: top;\n",
       "    }\n",
       "</style>\n",
       "<table border=\"1\" class=\"dataframe\">\n",
       "  <thead>\n",
       "    <tr style=\"text-align: right;\">\n",
       "      <th></th>\n",
       "      <th>date</th>\n",
       "      <th>vwretd</th>\n",
       "      <th>vwretx</th>\n",
       "      <th>sprtrn</th>\n",
       "      <th>spindx</th>\n",
       "      <th>spindx_int</th>\n",
       "      <th>name</th>\n",
       "    </tr>\n",
       "  </thead>\n",
       "  <tbody>\n",
       "    <tr>\n",
       "      <th>0</th>\n",
       "      <td>19260331</td>\n",
       "      <td>-0.094425</td>\n",
       "      <td>-0.105297</td>\n",
       "      <td>-0.080257</td>\n",
       "      <td>11.46</td>\n",
       "      <td>11</td>\n",
       "      <td>ZHU WU</td>\n",
       "    </tr>\n",
       "    <tr>\n",
       "      <th>1</th>\n",
       "      <td>19260630</td>\n",
       "      <td>0.105886</td>\n",
       "      <td>0.091079</td>\n",
       "      <td>0.075044</td>\n",
       "      <td>12.32</td>\n",
       "      <td>12</td>\n",
       "      <td>ZHU WU</td>\n",
       "    </tr>\n",
       "    <tr>\n",
       "      <th>2</th>\n",
       "      <td>19260930</td>\n",
       "      <td>0.067099</td>\n",
       "      <td>0.055355</td>\n",
       "      <td>0.087662</td>\n",
       "      <td>13.40</td>\n",
       "      <td>13</td>\n",
       "      <td>ZHU WU</td>\n",
       "    </tr>\n",
       "    <tr>\n",
       "      <th>3</th>\n",
       "      <td>19261231</td>\n",
       "      <td>0.027904</td>\n",
       "      <td>0.012429</td>\n",
       "      <td>0.006716</td>\n",
       "      <td>13.49</td>\n",
       "      <td>13</td>\n",
       "      <td>ZHU WU</td>\n",
       "    </tr>\n",
       "    <tr>\n",
       "      <th>4</th>\n",
       "      <td>19270331</td>\n",
       "      <td>0.051829</td>\n",
       "      <td>0.038891</td>\n",
       "      <td>0.032617</td>\n",
       "      <td>13.93</td>\n",
       "      <td>13</td>\n",
       "      <td>ZHU WU</td>\n",
       "    </tr>\n",
       "  </tbody>\n",
       "</table>\n",
       "</div>"
      ],
      "text/plain": [
       "       date    vwretd    vwretx    sprtrn  spindx  spindx_int    name\n",
       "0  19260331 -0.094425 -0.105297 -0.080257   11.46          11  ZHU WU\n",
       "1  19260630  0.105886  0.091079  0.075044   12.32          12  ZHU WU\n",
       "2  19260930  0.067099  0.055355  0.087662   13.40          13  ZHU WU\n",
       "3  19261231  0.027904  0.012429  0.006716   13.49          13  ZHU WU\n",
       "4  19270331  0.051829  0.038891  0.032617   13.93          13  ZHU WU"
      ]
     },
     "execution_count": 206,
     "metadata": {},
     "output_type": "execute_result"
    }
   ],
   "source": [
    "df.replace(to_replace = 'ZHU WU',value = \"\")\n",
    "df.info()\n",
    "df.head()"
   ]
  },
  {
   "cell_type": "code",
   "execution_count": 214,
   "metadata": {},
   "outputs": [
    {
     "data": {
      "text/plain": [
       "gender     object\n",
       "id          int64\n",
       "m-point     int64\n",
       "pay         int64\n",
       "dtype: object"
      ]
     },
     "execution_count": 214,
     "metadata": {},
     "output_type": "execute_result"
    }
   ],
   "source": [
    "df1=pd.DataFrame({\"id\":[1001,1002,1003,1004,1005,1006,1007,1008], \n",
    "\"gender\":['male','female','male','female','male','female','male','female'],\n",
    "\"pay\":['Y','N','Y','Y','N','Y','N','Y',],\n",
    "\"m-point\":[10,12,20,40,40,40,30,20]})\n",
    "df1\n",
    "df1['pay'].replace (to_replace = \"Y\",value = 1,inplace = True)\n",
    "df1['pay'].replace(to_replace = \"N\",value = 0,inplace =True)\n",
    "df1\n",
    "df1.dtypes"
   ]
  },
  {
   "cell_type": "code",
   "execution_count": 249,
   "metadata": {},
   "outputs": [
    {
     "data": {
      "text/html": [
       "<div>\n",
       "<style>\n",
       "    .dataframe thead tr:only-child th {\n",
       "        text-align: right;\n",
       "    }\n",
       "\n",
       "    .dataframe thead th {\n",
       "        text-align: left;\n",
       "    }\n",
       "\n",
       "    .dataframe tbody tr th {\n",
       "        vertical-align: top;\n",
       "    }\n",
       "</style>\n",
       "<table border=\"1\" class=\"dataframe\">\n",
       "  <thead>\n",
       "    <tr style=\"text-align: right;\">\n",
       "      <th></th>\n",
       "      <th>date</th>\n",
       "      <th>vwretd</th>\n",
       "      <th>vwretx</th>\n",
       "      <th>sprtrn</th>\n",
       "      <th>spindx</th>\n",
       "      <th>spindx_int</th>\n",
       "      <th>name</th>\n",
       "      <th>Return</th>\n",
       "    </tr>\n",
       "  </thead>\n",
       "  <tbody>\n",
       "    <tr>\n",
       "      <th>0</th>\n",
       "      <td>19260331</td>\n",
       "      <td>-0.094425</td>\n",
       "      <td>-0.105297</td>\n",
       "      <td>-0.080257</td>\n",
       "      <td>11.46</td>\n",
       "      <td>11</td>\n",
       "      <td>ZHU WU</td>\n",
       "      <td>Low</td>\n",
       "    </tr>\n",
       "    <tr>\n",
       "      <th>1</th>\n",
       "      <td>19260630</td>\n",
       "      <td>0.105886</td>\n",
       "      <td>0.091079</td>\n",
       "      <td>0.075044</td>\n",
       "      <td>12.32</td>\n",
       "      <td>12</td>\n",
       "      <td>ZHU WU</td>\n",
       "      <td>High</td>\n",
       "    </tr>\n",
       "    <tr>\n",
       "      <th>2</th>\n",
       "      <td>19260930</td>\n",
       "      <td>0.067099</td>\n",
       "      <td>0.055355</td>\n",
       "      <td>0.087662</td>\n",
       "      <td>13.40</td>\n",
       "      <td>13</td>\n",
       "      <td>ZHU WU</td>\n",
       "      <td>High</td>\n",
       "    </tr>\n",
       "    <tr>\n",
       "      <th>3</th>\n",
       "      <td>19261231</td>\n",
       "      <td>0.027904</td>\n",
       "      <td>0.012429</td>\n",
       "      <td>0.006716</td>\n",
       "      <td>13.49</td>\n",
       "      <td>13</td>\n",
       "      <td>ZHU WU</td>\n",
       "      <td>Low</td>\n",
       "    </tr>\n",
       "    <tr>\n",
       "      <th>4</th>\n",
       "      <td>19270331</td>\n",
       "      <td>0.051829</td>\n",
       "      <td>0.038891</td>\n",
       "      <td>0.032617</td>\n",
       "      <td>13.93</td>\n",
       "      <td>13</td>\n",
       "      <td>ZHU WU</td>\n",
       "      <td>High</td>\n",
       "    </tr>\n",
       "  </tbody>\n",
       "</table>\n",
       "</div>"
      ],
      "text/plain": [
       "       date    vwretd    vwretx    sprtrn  spindx  spindx_int    name Return\n",
       "0  19260331 -0.094425 -0.105297 -0.080257   11.46          11  ZHU WU    Low\n",
       "1  19260630  0.105886  0.091079  0.075044   12.32          12  ZHU WU   High\n",
       "2  19260930  0.067099  0.055355  0.087662   13.40          13  ZHU WU   High\n",
       "3  19261231  0.027904  0.012429  0.006716   13.49          13  ZHU WU    Low\n",
       "4  19270331  0.051829  0.038891  0.032617   13.93          13  ZHU WU   High"
      ]
     },
     "execution_count": 249,
     "metadata": {},
     "output_type": "execute_result"
    }
   ],
   "source": [
    "df.sort_values(by=['date'])\n",
    "df.set_index('date')   #set column index named as date\n",
    "df.sort_index(ascending = True)\n",
    "\n",
    "df['Return'] = np.where(df['vwretd'] > np.median(df['vwretd']),'High','Low')\n",
    "#define dummy using column return: High return or low return\n",
    "df.head()"
   ]
  },
  {
   "cell_type": "code",
   "execution_count": 250,
   "metadata": {},
   "outputs": [
    {
     "ename": "SyntaxError",
     "evalue": "invalid syntax (<ipython-input-250-fdc7e1257006>, line 1)",
     "output_type": "error",
     "traceback": [
      "\u001b[0;36m  File \u001b[0;32m\"<ipython-input-250-fdc7e1257006>\"\u001b[0;36m, line \u001b[0;32m1\u001b[0m\n\u001b[0;31m    =\u001b[0m\n\u001b[0m    ^\u001b[0m\n\u001b[0;31mSyntaxError\u001b[0m\u001b[0;31m:\u001b[0m invalid syntax\n"
     ]
    }
   ],
   "source": [
    "\n",
    "df_inner.loc[(df_inner['city'] == 'beijing') & (df_inner['price'] >= 4000), 'sign']=1\n",
    "\n"
   ]
  },
  {
   "cell_type": "code",
   "execution_count": 289,
   "metadata": {},
   "outputs": [
    {
     "name": "stdout",
     "output_type": "stream",
     "text": [
      "<class 'pandas.core.frame.DataFrame'>\n",
      "Int64Index: 368 entries, 0 to 367\n",
      "Data columns (total 10 columns):\n",
      "date          368 non-null int64\n",
      "vwretd        368 non-null float64\n",
      "vwretx        368 non-null float64\n",
      "sprtrn        368 non-null float64\n",
      "spindx        368 non-null float64\n",
      "spindx_int    368 non-null int64\n",
      "name          368 non-null object\n",
      "Return        368 non-null object\n",
      "last_name     368 non-null object\n",
      "first_name    368 non-null object\n",
      "dtypes: float64(4), int64(2), object(4)\n",
      "memory usage: 41.6+ KB\n"
     ]
    }
   ],
   "source": [
    "df.iloc[0:4]\n",
    "df.loc[df['Return']=='Low']\n",
    "\n",
    "##change the data conditional on some specific row \n",
    "df.loc[(df['vwretd']>np.median(df['vwretd']))&(df['vwretx']<np.median(df['vwretx'])),'Return']='Mistake'\n",
    "df.loc[df['Return'] =='Mistake']\n",
    "\n",
    "##split the column variables\n",
    "# pd.df((x.split(' ') for x in df['name']),index = df.index,columns = ['first_name','last_name'])\n",
    "\n",
    "df[['last_name','first_name']] = df['name'].str.split(' ',expand = True) ##split on column into several columns \n",
    "df.info()\n"
   ]
  },
  {
   "cell_type": "code",
   "execution_count": 302,
   "metadata": {},
   "outputs": [
    {
     "data": {
      "text/html": [
       "<div>\n",
       "<style>\n",
       "    .dataframe thead tr:only-child th {\n",
       "        text-align: right;\n",
       "    }\n",
       "\n",
       "    .dataframe thead th {\n",
       "        text-align: left;\n",
       "    }\n",
       "\n",
       "    .dataframe tbody tr th {\n",
       "        vertical-align: top;\n",
       "    }\n",
       "</style>\n",
       "<table border=\"1\" class=\"dataframe\">\n",
       "  <thead>\n",
       "    <tr style=\"text-align: right;\">\n",
       "      <th></th>\n",
       "      <th>vwretd</th>\n",
       "      <th>vwretx</th>\n",
       "      <th>sprtrn</th>\n",
       "      <th>spindx</th>\n",
       "      <th>spindx_int</th>\n",
       "      <th>name</th>\n",
       "      <th>Return</th>\n",
       "      <th>last_name</th>\n",
       "      <th>first_name</th>\n",
       "    </tr>\n",
       "    <tr>\n",
       "      <th>date</th>\n",
       "      <th></th>\n",
       "      <th></th>\n",
       "      <th></th>\n",
       "      <th></th>\n",
       "      <th></th>\n",
       "      <th></th>\n",
       "      <th></th>\n",
       "      <th></th>\n",
       "      <th></th>\n",
       "    </tr>\n",
       "  </thead>\n",
       "  <tbody>\n",
       "    <tr>\n",
       "      <th>20161230</th>\n",
       "      <td>0.039256</td>\n",
       "      <td>0.033463</td>\n",
       "      <td>0.032542</td>\n",
       "      <td>2238.83</td>\n",
       "      <td>2238</td>\n",
       "      <td>ZHU WU</td>\n",
       "      <td>High</td>\n",
       "      <td>ZHU</td>\n",
       "      <td>WU</td>\n",
       "    </tr>\n",
       "    <tr>\n",
       "      <th>20170331</th>\n",
       "      <td>0.058440</td>\n",
       "      <td>0.053143</td>\n",
       "      <td>0.055337</td>\n",
       "      <td>2362.72</td>\n",
       "      <td>2362</td>\n",
       "      <td>ZHU WU</td>\n",
       "      <td>High</td>\n",
       "      <td>ZHU</td>\n",
       "      <td>WU</td>\n",
       "    </tr>\n",
       "    <tr>\n",
       "      <th>20170630</th>\n",
       "      <td>0.028924</td>\n",
       "      <td>0.023534</td>\n",
       "      <td>0.025687</td>\n",
       "      <td>2423.41</td>\n",
       "      <td>2423</td>\n",
       "      <td>ZHU WU</td>\n",
       "      <td>Low</td>\n",
       "      <td>ZHU</td>\n",
       "      <td>WU</td>\n",
       "    </tr>\n",
       "    <tr>\n",
       "      <th>20170929</th>\n",
       "      <td>0.046633</td>\n",
       "      <td>0.041223</td>\n",
       "      <td>0.039593</td>\n",
       "      <td>2519.36</td>\n",
       "      <td>2519</td>\n",
       "      <td>ZHU WU</td>\n",
       "      <td>High</td>\n",
       "      <td>ZHU</td>\n",
       "      <td>WU</td>\n",
       "    </tr>\n",
       "    <tr>\n",
       "      <th>20171229</th>\n",
       "      <td>0.060702</td>\n",
       "      <td>0.055356</td>\n",
       "      <td>0.061226</td>\n",
       "      <td>2673.61</td>\n",
       "      <td>2673</td>\n",
       "      <td>ZHU WU</td>\n",
       "      <td>High</td>\n",
       "      <td>ZHU</td>\n",
       "      <td>WU</td>\n",
       "    </tr>\n",
       "  </tbody>\n",
       "</table>\n",
       "</div>"
      ],
      "text/plain": [
       "            vwretd    vwretx    sprtrn   spindx  spindx_int    name Return  \\\n",
       "date                                                                         \n",
       "20161230  0.039256  0.033463  0.032542  2238.83        2238  ZHU WU   High   \n",
       "20170331  0.058440  0.053143  0.055337  2362.72        2362  ZHU WU   High   \n",
       "20170630  0.028924  0.023534  0.025687  2423.41        2423  ZHU WU    Low   \n",
       "20170929  0.046633  0.041223  0.039593  2519.36        2519  ZHU WU   High   \n",
       "20171229  0.060702  0.055356  0.061226  2673.61        2673  ZHU WU   High   \n",
       "\n",
       "         last_name first_name  \n",
       "date                           \n",
       "20161230       ZHU         WU  \n",
       "20170331       ZHU         WU  \n",
       "20170630       ZHU         WU  \n",
       "20170929       ZHU         WU  \n",
       "20171229       ZHU         WU  "
      ]
     },
     "execution_count": 302,
     "metadata": {},
     "output_type": "execute_result"
    }
   ],
   "source": [
    "df.iloc[0:10]\n",
    "\n",
    "df.set_index('date',inplace=True)  #set date as index\n",
    "df.tail()"
   ]
  },
  {
   "cell_type": "code",
   "execution_count": 307,
   "metadata": {},
   "outputs": [
    {
     "data": {
      "text/html": [
       "<div>\n",
       "<style>\n",
       "    .dataframe thead tr:only-child th {\n",
       "        text-align: right;\n",
       "    }\n",
       "\n",
       "    .dataframe thead th {\n",
       "        text-align: left;\n",
       "    }\n",
       "\n",
       "    .dataframe tbody tr th {\n",
       "        vertical-align: top;\n",
       "    }\n",
       "</style>\n",
       "<table border=\"1\" class=\"dataframe\">\n",
       "  <thead>\n",
       "    <tr style=\"text-align: right;\">\n",
       "      <th></th>\n",
       "      <th>date</th>\n",
       "      <th>vwretd</th>\n",
       "      <th>vwretx</th>\n",
       "      <th>sprtrn</th>\n",
       "      <th>spindx</th>\n",
       "      <th>spindx_int</th>\n",
       "      <th>name</th>\n",
       "      <th>Return</th>\n",
       "      <th>last_name</th>\n",
       "      <th>first_name</th>\n",
       "    </tr>\n",
       "  </thead>\n",
       "  <tbody>\n",
       "    <tr>\n",
       "      <th>0</th>\n",
       "      <td>19260331</td>\n",
       "      <td>-0.094425</td>\n",
       "      <td>-0.105297</td>\n",
       "      <td>-0.080257</td>\n",
       "      <td>11.46</td>\n",
       "      <td>11</td>\n",
       "      <td>ZHU WU</td>\n",
       "      <td>Low</td>\n",
       "      <td>ZHU</td>\n",
       "      <td>WU</td>\n",
       "    </tr>\n",
       "    <tr>\n",
       "      <th>1</th>\n",
       "      <td>19260630</td>\n",
       "      <td>0.105886</td>\n",
       "      <td>0.091079</td>\n",
       "      <td>0.075044</td>\n",
       "      <td>12.32</td>\n",
       "      <td>12</td>\n",
       "      <td>ZHU WU</td>\n",
       "      <td>High</td>\n",
       "      <td>ZHU</td>\n",
       "      <td>WU</td>\n",
       "    </tr>\n",
       "    <tr>\n",
       "      <th>2</th>\n",
       "      <td>19260930</td>\n",
       "      <td>0.067099</td>\n",
       "      <td>0.055355</td>\n",
       "      <td>0.087662</td>\n",
       "      <td>13.40</td>\n",
       "      <td>13</td>\n",
       "      <td>ZHU WU</td>\n",
       "      <td>High</td>\n",
       "      <td>ZHU</td>\n",
       "      <td>WU</td>\n",
       "    </tr>\n",
       "    <tr>\n",
       "      <th>3</th>\n",
       "      <td>19261231</td>\n",
       "      <td>0.027904</td>\n",
       "      <td>0.012429</td>\n",
       "      <td>0.006716</td>\n",
       "      <td>13.49</td>\n",
       "      <td>13</td>\n",
       "      <td>ZHU WU</td>\n",
       "      <td>Low</td>\n",
       "      <td>ZHU</td>\n",
       "      <td>WU</td>\n",
       "    </tr>\n",
       "    <tr>\n",
       "      <th>4</th>\n",
       "      <td>19270331</td>\n",
       "      <td>0.051829</td>\n",
       "      <td>0.038891</td>\n",
       "      <td>0.032617</td>\n",
       "      <td>13.93</td>\n",
       "      <td>13</td>\n",
       "      <td>ZHU WU</td>\n",
       "      <td>High</td>\n",
       "      <td>ZHU</td>\n",
       "      <td>WU</td>\n",
       "    </tr>\n",
       "  </tbody>\n",
       "</table>\n",
       "</div>"
      ],
      "text/plain": [
       "       date    vwretd    vwretx    sprtrn  spindx  spindx_int    name Return  \\\n",
       "0  19260331 -0.094425 -0.105297 -0.080257   11.46          11  ZHU WU    Low   \n",
       "1  19260630  0.105886  0.091079  0.075044   12.32          12  ZHU WU   High   \n",
       "2  19260930  0.067099  0.055355  0.087662   13.40          13  ZHU WU   High   \n",
       "3  19261231  0.027904  0.012429  0.006716   13.49          13  ZHU WU    Low   \n",
       "4  19270331  0.051829  0.038891  0.032617   13.93          13  ZHU WU   High   \n",
       "\n",
       "  last_name first_name  \n",
       "0       ZHU         WU  \n",
       "1       ZHU         WU  \n",
       "2       ZHU         WU  \n",
       "3       ZHU         WU  \n",
       "4       ZHU         WU  "
      ]
     },
     "execution_count": 307,
     "metadata": {},
     "output_type": "execute_result"
    }
   ],
   "source": [
    "df.head()\n",
    "df.reset_index(inplace = True)\n",
    "df.head()"
   ]
  },
  {
   "cell_type": "code",
   "execution_count": 311,
   "metadata": {},
   "outputs": [
    {
     "data": {
      "text/html": [
       "<div>\n",
       "<style>\n",
       "    .dataframe thead tr:only-child th {\n",
       "        text-align: right;\n",
       "    }\n",
       "\n",
       "    .dataframe thead th {\n",
       "        text-align: left;\n",
       "    }\n",
       "\n",
       "    .dataframe tbody tr th {\n",
       "        vertical-align: top;\n",
       "    }\n",
       "</style>\n",
       "<table border=\"1\" class=\"dataframe\">\n",
       "  <thead>\n",
       "    <tr style=\"text-align: right;\">\n",
       "      <th></th>\n",
       "      <th>date</th>\n",
       "      <th>vwretd</th>\n",
       "    </tr>\n",
       "  </thead>\n",
       "  <tbody>\n",
       "    <tr>\n",
       "      <th>0</th>\n",
       "      <td>19260331</td>\n",
       "      <td>-0.094425</td>\n",
       "    </tr>\n",
       "    <tr>\n",
       "      <th>1</th>\n",
       "      <td>19260630</td>\n",
       "      <td>0.105886</td>\n",
       "    </tr>\n",
       "    <tr>\n",
       "      <th>2</th>\n",
       "      <td>19260930</td>\n",
       "      <td>0.067099</td>\n",
       "    </tr>\n",
       "  </tbody>\n",
       "</table>\n",
       "</div>"
      ],
      "text/plain": [
       "       date    vwretd\n",
       "0  19260331 -0.094425\n",
       "1  19260630  0.105886\n",
       "2  19260930  0.067099"
      ]
     },
     "execution_count": 311,
     "metadata": {},
     "output_type": "execute_result"
    }
   ],
   "source": [
    "df.iloc[:3,:2] #use both row index and column index to extract data"
   ]
  },
  {
   "cell_type": "markdown",
   "metadata": {},
   "source": [
    "# Time Series Analysis using Python "
   ]
  },
  {
   "cell_type": "code",
   "execution_count": 334,
   "metadata": {},
   "outputs": [
    {
     "name": "stdout",
     "output_type": "stream",
     "text": [
      "2018-02-12 22:08:08.747669\n",
      "2018\n",
      "2\n",
      "12\n",
      "22\n",
      "8\n",
      "8\n",
      "747669\n"
     ]
    }
   ],
   "source": [
    "from datetime import datetime \n",
    "from datetime import timedelta\n",
    "\n",
    "now = datetime.now()\n",
    "print(now)\n",
    "type(now)\n",
    "print(now.year)\n",
    "print(now.month)\n",
    "print(now.day)\n",
    "print(now.hour)\n",
    "print(now.minute)\n",
    "print(now.second)\n",
    "print(now.microsecond)"
   ]
  },
  {
   "cell_type": "code",
   "execution_count": 357,
   "metadata": {},
   "outputs": [
    {
     "name": "stdout",
     "output_type": "stream",
     "text": [
      "<class 'datetime.datetime'>\n"
     ]
    },
    {
     "data": {
      "text/plain": [
       "[datetime.datetime(2016, 1, 10, 0, 0), datetime.datetime(2017, 4, 30, 0, 0)]"
      ]
     },
     "execution_count": 357,
     "metadata": {},
     "output_type": "execute_result"
    }
   ],
   "source": [
    "##transfer datetime into string \n",
    "time = datetime(2016,1,15)\n",
    "print(type(time))\n",
    "strtime = str(time)\n",
    "strtime\n",
    "\n",
    "#transfer the string back to datetime\n",
    "datetime.strftime(time,'%Y-%m-%d')\n",
    "\n",
    "##transfer the string backinto datetime\n",
    "date = ['2016-01-10','2017-04-30']\n",
    "type(date)\n",
    "datetime2 = [datetime.strptime(x,'%Y-%m-%d') for x in date]\n",
    "datetime2\n",
    "\n"
   ]
  },
  {
   "cell_type": "code",
   "execution_count": 377,
   "metadata": {},
   "outputs": [
    {
     "name": "stdout",
     "output_type": "stream",
     "text": [
      "<class 'pandas.core.frame.DataFrame'>\n",
      "RangeIndex: 368 entries, 0 to 367\n",
      "Data columns (total 10 columns):\n",
      "date          368 non-null object\n",
      "vwretd        368 non-null float64\n",
      "vwretx        368 non-null float64\n",
      "sprtrn        368 non-null float64\n",
      "spindx        368 non-null float64\n",
      "spindx_int    368 non-null int64\n",
      "name          368 non-null object\n",
      "Return        368 non-null object\n",
      "last_name     368 non-null object\n",
      "first_name    368 non-null object\n",
      "dtypes: float64(4), int64(1), object(5)\n",
      "memory usage: 28.8+ KB\n"
     ]
    }
   ],
   "source": [
    "df.head()\n",
    "df.date = df.date.astype(str)\n",
    "df.info()\n",
    "df.drop(['name','last_name','first_name'],axis = 1,inplace = True)\n"
   ]
  },
  {
   "cell_type": "code",
   "execution_count": null,
   "metadata": {},
   "outputs": [],
   "source": [
    "df.head()\n",
    "df['year']= df.date.str.slice(0,4)\n",
    "df['month'] = df.date.str.slice(4,6)\n",
    "df['day'] = df.date.str.slice(6,8)\n",
    "\n",
    "df.drop('date',axis = 1, inplace = True)"
   ]
  },
  {
   "cell_type": "code",
   "execution_count": 393,
   "metadata": {},
   "outputs": [
    {
     "name": "stdout",
     "output_type": "stream",
     "text": [
      "<class 'pandas.core.frame.DataFrame'>\n",
      "RangeIndex: 368 entries, 0 to 367\n",
      "Data columns (total 10 columns):\n",
      "vwretd        368 non-null float64\n",
      "vwretx        368 non-null float64\n",
      "sprtrn        368 non-null float64\n",
      "spindx        368 non-null float64\n",
      "spindx_int    368 non-null int64\n",
      "Return        368 non-null object\n",
      "year          368 non-null object\n",
      "month         368 non-null object\n",
      "day           368 non-null object\n",
      "date          368 non-null object\n",
      "dtypes: float64(4), int64(1), object(5)\n",
      "memory usage: 28.8+ KB\n"
     ]
    }
   ],
   "source": [
    "df['date'] = df['year'] + '-'+df['month']\n",
    "df.info()"
   ]
  },
  {
   "cell_type": "code",
   "execution_count": 412,
   "metadata": {},
   "outputs": [
    {
     "data": {
      "text/html": [
       "<div>\n",
       "<style>\n",
       "    .dataframe thead tr:only-child th {\n",
       "        text-align: right;\n",
       "    }\n",
       "\n",
       "    .dataframe thead th {\n",
       "        text-align: left;\n",
       "    }\n",
       "\n",
       "    .dataframe tbody tr th {\n",
       "        vertical-align: top;\n",
       "    }\n",
       "</style>\n",
       "<table border=\"1\" class=\"dataframe\">\n",
       "  <thead>\n",
       "    <tr style=\"text-align: right;\">\n",
       "      <th></th>\n",
       "      <th>vwretd</th>\n",
       "      <th>vwretx</th>\n",
       "      <th>sprtrn</th>\n",
       "      <th>spindx</th>\n",
       "      <th>spindx_int</th>\n",
       "      <th>Return</th>\n",
       "      <th>year</th>\n",
       "      <th>month</th>\n",
       "      <th>day</th>\n",
       "      <th>date</th>\n",
       "    </tr>\n",
       "    <tr>\n",
       "      <th>Qtr</th>\n",
       "      <th></th>\n",
       "      <th></th>\n",
       "      <th></th>\n",
       "      <th></th>\n",
       "      <th></th>\n",
       "      <th></th>\n",
       "      <th></th>\n",
       "      <th></th>\n",
       "      <th></th>\n",
       "      <th></th>\n",
       "    </tr>\n",
       "  </thead>\n",
       "  <tbody>\n",
       "    <tr>\n",
       "      <th>1926Q1</th>\n",
       "      <td>-0.094425</td>\n",
       "      <td>-0.105297</td>\n",
       "      <td>-0.080257</td>\n",
       "      <td>11.46</td>\n",
       "      <td>11</td>\n",
       "      <td>Low</td>\n",
       "      <td>1926</td>\n",
       "      <td>03</td>\n",
       "      <td>31</td>\n",
       "      <td>1926-03</td>\n",
       "    </tr>\n",
       "    <tr>\n",
       "      <th>1926Q2</th>\n",
       "      <td>0.105886</td>\n",
       "      <td>0.091079</td>\n",
       "      <td>0.075044</td>\n",
       "      <td>12.32</td>\n",
       "      <td>12</td>\n",
       "      <td>High</td>\n",
       "      <td>1926</td>\n",
       "      <td>06</td>\n",
       "      <td>30</td>\n",
       "      <td>1926-06</td>\n",
       "    </tr>\n",
       "    <tr>\n",
       "      <th>1926Q3</th>\n",
       "      <td>0.067099</td>\n",
       "      <td>0.055355</td>\n",
       "      <td>0.087662</td>\n",
       "      <td>13.40</td>\n",
       "      <td>13</td>\n",
       "      <td>High</td>\n",
       "      <td>1926</td>\n",
       "      <td>09</td>\n",
       "      <td>30</td>\n",
       "      <td>1926-09</td>\n",
       "    </tr>\n",
       "    <tr>\n",
       "      <th>1926Q4</th>\n",
       "      <td>0.027904</td>\n",
       "      <td>0.012429</td>\n",
       "      <td>0.006716</td>\n",
       "      <td>13.49</td>\n",
       "      <td>13</td>\n",
       "      <td>Low</td>\n",
       "      <td>1926</td>\n",
       "      <td>12</td>\n",
       "      <td>31</td>\n",
       "      <td>1926-12</td>\n",
       "    </tr>\n",
       "    <tr>\n",
       "      <th>1927Q1</th>\n",
       "      <td>0.051829</td>\n",
       "      <td>0.038891</td>\n",
       "      <td>0.032617</td>\n",
       "      <td>13.93</td>\n",
       "      <td>13</td>\n",
       "      <td>High</td>\n",
       "      <td>1927</td>\n",
       "      <td>03</td>\n",
       "      <td>31</td>\n",
       "      <td>1927-03</td>\n",
       "    </tr>\n",
       "  </tbody>\n",
       "</table>\n",
       "</div>"
      ],
      "text/plain": [
       "          vwretd    vwretx    sprtrn  spindx  spindx_int Return  year month  \\\n",
       "Qtr                                                                           \n",
       "1926Q1 -0.094425 -0.105297 -0.080257   11.46          11    Low  1926    03   \n",
       "1926Q2  0.105886  0.091079  0.075044   12.32          12   High  1926    06   \n",
       "1926Q3  0.067099  0.055355  0.087662   13.40          13   High  1926    09   \n",
       "1926Q4  0.027904  0.012429  0.006716   13.49          13    Low  1926    12   \n",
       "1927Q1  0.051829  0.038891  0.032617   13.93          13   High  1927    03   \n",
       "\n",
       "       day     date  \n",
       "Qtr                  \n",
       "1926Q1  31  1926-03  \n",
       "1926Q2  30  1926-06  \n",
       "1926Q3  30  1926-09  \n",
       "1926Q4  31  1926-12  \n",
       "1927Q1  31  1927-03  "
      ]
     },
     "execution_count": 412,
     "metadata": {},
     "output_type": "execute_result"
    }
   ],
   "source": [
    "#parse the date into time series\n",
    "#x['Qtr'] = pd.PeriodIndex(pd.to_datetime(x.Mth), freq='Q')\n",
    "df['Qtr'] = pd.PeriodIndex(pd.to_datetime(df.date),freq = 'Q')\n",
    "df.head()\n",
    "\n",
    "df.set_index(['Qtr'],inplace = True) #set the time as the index for TS analysis\n",
    "df.head()"
   ]
  },
  {
   "cell_type": "code",
   "execution_count": 420,
   "metadata": {},
   "outputs": [
    {
     "data": {
      "text/plain": [
       "PeriodIndex(['1926Q1', '1926Q2', '1926Q3', '1926Q4', '1927Q1', '1927Q2',\n",
       "             '1927Q3', '1927Q4', '1928Q1', '1928Q2',\n",
       "             ...\n",
       "             '2015Q3', '2015Q4', '2016Q1', '2016Q2', '2016Q3', '2016Q4',\n",
       "             '2017Q1', '2017Q2', '2017Q3', '2017Q4'],\n",
       "            dtype='period[Q-DEC]', name='Qtr', length=368, freq='Q-DEC')"
      ]
     },
     "execution_count": 420,
     "metadata": {},
     "output_type": "execute_result"
    }
   ],
   "source": [
    "df.head()\n",
    "df.index"
   ]
  },
  {
   "cell_type": "code",
   "execution_count": 443,
   "metadata": {},
   "outputs": [
    {
     "data": {
      "image/png": "[encoded data removed]",
      "text/plain": [
       "<matplotlib.figure.Figure at 0x132e196a0>"
      ]
     },
     "metadata": {},
     "output_type": "display_data"
    },
    {
     "data": {
      "image/png": "[encoded data removed]",
      "text/plain": [
       "<matplotlib.figure.Figure at 0x132c409b0>"
      ]
     },
     "metadata": {},
     "output_type": "display_data"
    }
   ],
   "source": [
    "df['vwretx'].plot(title = \"Value Weigthed Return\")\n",
    "plt.show()\n",
    "df['vwretd'].plot(title = \"Value Weigthed Return\")\n",
    "plt.show()"
   ]
  },
  {
   "cell_type": "code",
   "execution_count": null,
   "metadata": {},
   "outputs": [],
   "source": []
  },
  {
   "cell_type": "code",
   "execution_count": 439,
   "metadata": {},
   "outputs": [
    {
     "name": "stdout",
     "output_type": "stream",
     "text": [
      "<class 'pandas.core.frame.DataFrame'>\n",
      "PeriodIndex: 368 entries, 1926Q1 to 2017Q4\n",
      "Freq: Q-DEC\n",
      "Data columns (total 10 columns):\n",
      "vwretd        368 non-null float64\n",
      "vwretx        368 non-null float64\n",
      "sprtrn        368 non-null float64\n",
      "spindx        368 non-null float64\n",
      "spindx_int    368 non-null int64\n",
      "Return        368 non-null object\n",
      "year          368 non-null object\n",
      "month         368 non-null object\n",
      "day           368 non-null object\n",
      "date          368 non-null object\n",
      "dtypes: float64(4), int64(1), object(5)\n",
      "memory usage: 31.6+ KB\n"
     ]
    }
   ],
   "source": [
    "df.info()"
   ]
  },
  {
   "cell_type": "code",
   "execution_count": 452,
   "metadata": {},
   "outputs": [
    {
     "data": {
      "text/plain": [
       "0    0.666882\n",
       "1    0.480092\n",
       "2    0.373765\n",
       "3    0.859074\n",
       "4    0.403888\n",
       "dtype: float64"
      ]
     },
     "execution_count": 452,
     "metadata": {},
     "output_type": "execute_result"
    }
   ],
   "source": [
    "series  = pd.Series(data = np.random.normal(0,1,100),index  = range(100),dtype = np.float64)  #generate a series \n",
    "series.head()"
   ]
  },
  {
   "cell_type": "code",
   "execution_count": 457,
   "metadata": {},
   "outputs": [
    {
     "name": "stdout",
     "output_type": "stream",
     "text": [
      "\n",
      "INSTALLED VERSIONS\n",
      "------------------\n",
      "commit: None\n",
      "python: 3.6.3.final.0\n",
      "python-bits: 64\n",
      "OS: Darwin\n",
      "OS-release: 15.6.0\n",
      "machine: x86_64\n",
      "processor: i386\n",
      "byteorder: little\n",
      "LC_ALL: None\n",
      "LANG: en_US.UTF-8\n",
      "LOCALE: en_US.UTF-8\n",
      "\n",
      "pandas: 0.20.3\n",
      "pytest: 3.2.1\n",
      "pip: 9.0.1\n",
      "setuptools: 36.5.0.post20170921\n",
      "Cython: 0.26.1\n",
      "numpy: 1.13.3\n",
      "scipy: 0.19.1\n",
      "xarray: None\n",
      "IPython: 6.1.0\n",
      "sphinx: 1.6.3\n",
      "patsy: 0.4.1\n",
      "dateutil: 2.6.1\n",
      "pytz: 2017.2\n",
      "blosc: None\n",
      "bottleneck: 1.2.1\n",
      "tables: 3.4.2\n",
      "numexpr: 2.6.2\n",
      "feather: None\n",
      "matplotlib: 2.1.0\n",
      "openpyxl: 2.4.8\n",
      "xlrd: 1.1.0\n",
      "xlwt: 1.2.0\n",
      "xlsxwriter: 1.0.2\n",
      "lxml: 4.1.0\n",
      "bs4: 4.6.0\n",
      "html5lib: 0.999999999\n",
      "sqlalchemy: 1.1.13\n",
      "pymysql: None\n",
      "psycopg2: None\n",
      "jinja2: 2.9.6\n",
      "s3fs: None\n",
      "pandas_gbq: None\n",
      "pandas_datareader: None\n"
     ]
    }
   ],
   "source": [
    "pd.show_versions()"
   ]
  },
  {
   "cell_type": "code",
   "execution_count": null,
   "metadata": {
    "collapsed": true
   },
   "outputs": [],
   "source": []
  }
 ],
 "metadata": {
  "kernelspec": {
   "display_name": "Python 3",
   "language": "python",
   "name": "python3"
  },
  "language_info": {
   "codemirror_mode": {
    "name": "ipython",
    "version": 3
   },
   "file_extension": ".py",
   "mimetype": "text/x-python",
   "name": "python",
   "nbconvert_exporter": "python",
   "pygments_lexer": "ipython3",
   "version": "3.6.3"
  }
 },
 "nbformat": 4,
 "nbformat_minor": 2
}
